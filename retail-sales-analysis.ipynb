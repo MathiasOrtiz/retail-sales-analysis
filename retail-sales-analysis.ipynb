{
 "cells": [
  {
   "cell_type": "code",
   "execution_count": 3,
   "metadata": {},
   "outputs": [
    {
     "name": "stdout",
     "output_type": "stream",
     "text": [
      "[[   1.   nan   nan ...    3.   50.  150.]\n",
      " [   2.   nan   nan ...    2.  500. 1000.]\n",
      " [   3.   nan   nan ...    1.   30.   30.]\n",
      " ...\n",
      " [ 998.   nan   nan ...    4.   25.  100.]\n",
      " [ 999.   nan   nan ...    3.   50.  150.]\n",
      " [1000.   nan   nan ...    4.   30.  120.]]\n"
     ]
    }
   ],
   "source": [
    "import numpy as np\n",
    "\n",
    "def cargar_datos(ruta_archivo):\n",
    "    #Carga los datos del archivo CSV utilizando Numpy\n",
    "    datos = np.genfromtxt(ruta_archivo, delimiter=',', skip_header=1)\n",
    "    return datos\n",
    "\n",
    "ruta_archivo = '/Users/mathiorti/Desktop/Me/Cursos/Data Analisis and Machine Learning/retail_sales_dataset.csv'\n",
    "\n",
    "datos = cargar_datos(ruta_archivo)\n",
    "\n",
    "print(datos)\n"
   ]
  },
  {
   "attachments": {},
   "cell_type": "markdown",
   "metadata": {},
   "source": [
    "Exploración de Datos\n",
    "\n",
    "- Filtra los datos para mostrar solo las ventas de una categoría de producto específica.\n",
    "- Realiza operaciones de suma, resta, multiplicación y división en los datos para obtener estadísticas adicionales."
   ]
  },
  {
   "cell_type": "code",
   "execution_count": 34,
   "metadata": {},
   "outputs": [
    {
     "name": "stdout",
     "output_type": "stream",
     "text": [
      "['nan' 'nan' 'nan' 'nan' 'nan' 'nan' 'nan' 'nan' 'nan' 'nan' 'nan' 'nan'\n",
      " 'nan' 'nan' 'nan' 'nan' 'nan' 'nan' 'nan' 'nan' 'nan' 'nan' 'nan' 'nan'\n",
      " 'nan' 'nan' 'nan' 'nan' 'nan' 'nan' 'nan' 'nan' 'nan' 'nan' 'nan' 'nan'\n",
      " 'nan' 'nan' 'nan' 'nan' 'nan' 'nan' 'nan' 'nan' 'nan' 'nan' 'nan' 'nan'\n",
      " 'nan' 'nan' 'nan' 'nan' 'nan' 'nan' 'nan' 'nan' 'nan' 'nan' 'nan' 'nan'\n",
      " 'nan' 'nan' 'nan' 'nan' 'nan' 'nan' 'nan' 'nan' 'nan' 'nan' 'nan' 'nan'\n",
      " 'nan' 'nan' 'nan' 'nan' 'nan' 'nan' 'nan' 'nan' 'nan' 'nan' 'nan' 'nan'\n",
      " 'nan' 'nan' 'nan' 'nan' 'nan' 'nan' 'nan' 'nan' 'nan' 'nan' 'nan' 'nan'\n",
      " 'nan' 'nan' 'nan' 'nan' 'nan' 'nan' 'nan' 'nan' 'nan' 'nan' 'nan' 'nan'\n",
      " 'nan' 'nan' 'nan' 'nan' 'nan' 'nan' 'nan' 'nan' 'nan' 'nan' 'nan' 'nan'\n",
      " 'nan' 'nan' 'nan' 'nan' 'nan' 'nan' 'nan' 'nan' 'nan' 'nan' 'nan' 'nan'\n",
      " 'nan' 'nan' 'nan' 'nan' 'nan' 'nan' 'nan' 'nan' 'nan' 'nan' 'nan' 'nan'\n",
      " 'nan' 'nan' 'nan' 'nan' 'nan' 'nan' 'nan' 'nan' 'nan' 'nan' 'nan' 'nan'\n",
      " 'nan' 'nan' 'nan' 'nan' 'nan' 'nan' 'nan' 'nan' 'nan' 'nan' 'nan' 'nan'\n",
      " 'nan' 'nan' 'nan' 'nan' 'nan' 'nan' 'nan' 'nan' 'nan' 'nan' 'nan' 'nan'\n",
      " 'nan' 'nan' 'nan' 'nan' 'nan' 'nan' 'nan' 'nan' 'nan' 'nan' 'nan' 'nan'\n",
      " 'nan' 'nan' 'nan' 'nan' 'nan' 'nan' 'nan' 'nan' 'nan' 'nan' 'nan' 'nan'\n",
      " 'nan' 'nan' 'nan' 'nan' 'nan' 'nan' 'nan' 'nan' 'nan' 'nan' 'nan' 'nan'\n",
      " 'nan' 'nan' 'nan' 'nan' 'nan' 'nan' 'nan' 'nan' 'nan' 'nan' 'nan' 'nan'\n",
      " 'nan' 'nan' 'nan' 'nan' 'nan' 'nan' 'nan' 'nan' 'nan' 'nan' 'nan' 'nan'\n",
      " 'nan' 'nan' 'nan' 'nan' 'nan' 'nan' 'nan' 'nan' 'nan' 'nan' 'nan' 'nan'\n",
      " 'nan' 'nan' 'nan' 'nan' 'nan' 'nan' 'nan' 'nan' 'nan' 'nan' 'nan' 'nan'\n",
      " 'nan' 'nan' 'nan' 'nan' 'nan' 'nan' 'nan' 'nan' 'nan' 'nan' 'nan' 'nan'\n",
      " 'nan' 'nan' 'nan' 'nan' 'nan' 'nan' 'nan' 'nan' 'nan' 'nan' 'nan' 'nan'\n",
      " 'nan' 'nan' 'nan' 'nan' 'nan' 'nan' 'nan' 'nan' 'nan' 'nan' 'nan' 'nan'\n",
      " 'nan' 'nan' 'nan' 'nan' 'nan' 'nan' 'nan' 'nan' 'nan' 'nan' 'nan' 'nan'\n",
      " 'nan' 'nan' 'nan' 'nan' 'nan' 'nan' 'nan' 'nan' 'nan' 'nan' 'nan' 'nan'\n",
      " 'nan' 'nan' 'nan' 'nan' 'nan' 'nan' 'nan' 'nan' 'nan' 'nan' 'nan' 'nan'\n",
      " 'nan' 'nan' 'nan' 'nan' 'nan' 'nan' 'nan' 'nan' 'nan' 'nan' 'nan' 'nan'\n",
      " 'nan' 'nan' 'nan' 'nan' 'nan' 'nan' 'nan' 'nan' 'nan' 'nan' 'nan' 'nan'\n",
      " 'nan' 'nan' 'nan' 'nan' 'nan' 'nan' 'nan' 'nan' 'nan' 'nan' 'nan' 'nan'\n",
      " 'nan' 'nan' 'nan' 'nan' 'nan' 'nan' 'nan' 'nan' 'nan' 'nan' 'nan' 'nan'\n",
      " 'nan' 'nan' 'nan' 'nan' 'nan' 'nan' 'nan' 'nan' 'nan' 'nan' 'nan' 'nan'\n",
      " 'nan' 'nan' 'nan' 'nan' 'nan' 'nan' 'nan' 'nan' 'nan' 'nan' 'nan' 'nan'\n",
      " 'nan' 'nan' 'nan' 'nan' 'nan' 'nan' 'nan' 'nan' 'nan' 'nan' 'nan' 'nan'\n",
      " 'nan' 'nan' 'nan' 'nan' 'nan' 'nan' 'nan' 'nan' 'nan' 'nan' 'nan' 'nan'\n",
      " 'nan' 'nan' 'nan' 'nan' 'nan' 'nan' 'nan' 'nan' 'nan' 'nan' 'nan' 'nan'\n",
      " 'nan' 'nan' 'nan' 'nan' 'nan' 'nan' 'nan' 'nan' 'nan' 'nan' 'nan' 'nan'\n",
      " 'nan' 'nan' 'nan' 'nan' 'nan' 'nan' 'nan' 'nan' 'nan' 'nan' 'nan' 'nan'\n",
      " 'nan' 'nan' 'nan' 'nan' 'nan' 'nan' 'nan' 'nan' 'nan' 'nan' 'nan' 'nan'\n",
      " 'nan' 'nan' 'nan' 'nan' 'nan' 'nan' 'nan' 'nan' 'nan' 'nan' 'nan' 'nan'\n",
      " 'nan' 'nan' 'nan' 'nan' 'nan' 'nan' 'nan' 'nan' 'nan' 'nan' 'nan' 'nan'\n",
      " 'nan' 'nan' 'nan' 'nan' 'nan' 'nan' 'nan' 'nan' 'nan' 'nan' 'nan' 'nan'\n",
      " 'nan' 'nan' 'nan' 'nan' 'nan' 'nan' 'nan' 'nan' 'nan' 'nan' 'nan' 'nan'\n",
      " 'nan' 'nan' 'nan' 'nan' 'nan' 'nan' 'nan' 'nan' 'nan' 'nan' 'nan' 'nan'\n",
      " 'nan' 'nan' 'nan' 'nan' 'nan' 'nan' 'nan' 'nan' 'nan' 'nan' 'nan' 'nan'\n",
      " 'nan' 'nan' 'nan' 'nan' 'nan' 'nan' 'nan' 'nan' 'nan' 'nan' 'nan' 'nan'\n",
      " 'nan' 'nan' 'nan' 'nan' 'nan' 'nan' 'nan' 'nan' 'nan' 'nan' 'nan' 'nan'\n",
      " 'nan' 'nan' 'nan' 'nan' 'nan' 'nan' 'nan' 'nan' 'nan' 'nan' 'nan' 'nan'\n",
      " 'nan' 'nan' 'nan' 'nan' 'nan' 'nan' 'nan' 'nan' 'nan' 'nan' 'nan' 'nan'\n",
      " 'nan' 'nan' 'nan' 'nan' 'nan' 'nan' 'nan' 'nan' 'nan' 'nan' 'nan' 'nan'\n",
      " 'nan' 'nan' 'nan' 'nan' 'nan' 'nan' 'nan' 'nan' 'nan' 'nan' 'nan' 'nan'\n",
      " 'nan' 'nan' 'nan' 'nan' 'nan' 'nan' 'nan' 'nan' 'nan' 'nan' 'nan' 'nan'\n",
      " 'nan' 'nan' 'nan' 'nan' 'nan' 'nan' 'nan' 'nan' 'nan' 'nan' 'nan' 'nan'\n",
      " 'nan' 'nan' 'nan' 'nan' 'nan' 'nan' 'nan' 'nan' 'nan' 'nan' 'nan' 'nan'\n",
      " 'nan' 'nan' 'nan' 'nan' 'nan' 'nan' 'nan' 'nan' 'nan' 'nan' 'nan' 'nan'\n",
      " 'nan' 'nan' 'nan' 'nan' 'nan' 'nan' 'nan' 'nan' 'nan' 'nan' 'nan' 'nan'\n",
      " 'nan' 'nan' 'nan' 'nan' 'nan' 'nan' 'nan' 'nan' 'nan' 'nan' 'nan' 'nan'\n",
      " 'nan' 'nan' 'nan' 'nan' 'nan' 'nan' 'nan' 'nan' 'nan' 'nan' 'nan' 'nan'\n",
      " 'nan' 'nan' 'nan' 'nan' 'nan' 'nan' 'nan' 'nan' 'nan' 'nan' 'nan' 'nan'\n",
      " 'nan' 'nan' 'nan' 'nan' 'nan' 'nan' 'nan' 'nan' 'nan' 'nan' 'nan' 'nan'\n",
      " 'nan' 'nan' 'nan' 'nan' 'nan' 'nan' 'nan' 'nan' 'nan' 'nan' 'nan' 'nan'\n",
      " 'nan' 'nan' 'nan' 'nan' 'nan' 'nan' 'nan' 'nan' 'nan' 'nan' 'nan' 'nan'\n",
      " 'nan' 'nan' 'nan' 'nan' 'nan' 'nan' 'nan' 'nan' 'nan' 'nan' 'nan' 'nan'\n",
      " 'nan' 'nan' 'nan' 'nan' 'nan' 'nan' 'nan' 'nan' 'nan' 'nan' 'nan' 'nan'\n",
      " 'nan' 'nan' 'nan' 'nan' 'nan' 'nan' 'nan' 'nan' 'nan' 'nan' 'nan' 'nan'\n",
      " 'nan' 'nan' 'nan' 'nan' 'nan' 'nan' 'nan' 'nan' 'nan' 'nan' 'nan' 'nan'\n",
      " 'nan' 'nan' 'nan' 'nan' 'nan' 'nan' 'nan' 'nan' 'nan' 'nan' 'nan' 'nan'\n",
      " 'nan' 'nan' 'nan' 'nan' 'nan' 'nan' 'nan' 'nan' 'nan' 'nan' 'nan' 'nan'\n",
      " 'nan' 'nan' 'nan' 'nan' 'nan' 'nan' 'nan' 'nan' 'nan' 'nan' 'nan' 'nan'\n",
      " 'nan' 'nan' 'nan' 'nan' 'nan' 'nan' 'nan' 'nan' 'nan' 'nan' 'nan' 'nan'\n",
      " 'nan' 'nan' 'nan' 'nan' 'nan' 'nan' 'nan' 'nan' 'nan' 'nan' 'nan' 'nan'\n",
      " 'nan' 'nan' 'nan' 'nan' 'nan' 'nan' 'nan' 'nan' 'nan' 'nan' 'nan' 'nan'\n",
      " 'nan' 'nan' 'nan' 'nan' 'nan' 'nan' 'nan' 'nan' 'nan' 'nan' 'nan' 'nan'\n",
      " 'nan' 'nan' 'nan' 'nan' 'nan' 'nan' 'nan' 'nan' 'nan' 'nan' 'nan' 'nan'\n",
      " 'nan' 'nan' 'nan' 'nan' 'nan' 'nan' 'nan' 'nan' 'nan' 'nan' 'nan' 'nan'\n",
      " 'nan' 'nan' 'nan' 'nan' 'nan' 'nan' 'nan' 'nan' 'nan' 'nan' 'nan' 'nan'\n",
      " 'nan' 'nan' 'nan' 'nan' 'nan' 'nan' 'nan' 'nan' 'nan' 'nan' 'nan' 'nan'\n",
      " 'nan' 'nan' 'nan' 'nan' 'nan' 'nan' 'nan' 'nan' 'nan' 'nan' 'nan' 'nan'\n",
      " 'nan' 'nan' 'nan' 'nan' 'nan' 'nan' 'nan' 'nan' 'nan' 'nan' 'nan' 'nan'\n",
      " 'nan' 'nan' 'nan' 'nan' 'nan' 'nan' 'nan' 'nan' 'nan' 'nan' 'nan' 'nan'\n",
      " 'nan' 'nan' 'nan' 'nan' 'nan' 'nan' 'nan' 'nan' 'nan' 'nan' 'nan' 'nan'\n",
      " 'nan' 'nan' 'nan' 'nan' 'nan' 'nan' 'nan' 'nan' 'nan' 'nan' 'nan' 'nan'\n",
      " 'nan' 'nan' 'nan' 'nan']\n"
     ]
    }
   ],
   "source": [
    "#Primeramente estoy viendo que hay un problema. Algunos datos se imprimen como nan porque Numpy trata de tomarlo como números.\n",
    "#Para arreglarlo debo usar .astype(str)\n",
    "print(datos[:, 5].astype(str))\n"
   ]
  },
  {
   "cell_type": "code",
   "execution_count": 37,
   "metadata": {},
   "outputs": [
    {
     "name": "stdout",
     "output_type": "stream",
     "text": [
      "     Transaction ID        Date Customer ID  Gender  Age Product Category  \\\n",
      "0                 1  2023-11-24     CUST001    Male   34           Beauty   \n",
      "1                 2  2023-02-27     CUST002  Female   26         Clothing   \n",
      "2                 3  2023-01-13     CUST003    Male   50      Electronics   \n",
      "3                 4  2023-05-21     CUST004    Male   37         Clothing   \n",
      "4                 5  2023-05-06     CUST005    Male   30           Beauty   \n",
      "..              ...         ...         ...     ...  ...              ...   \n",
      "995             996  2023-05-16     CUST996    Male   62         Clothing   \n",
      "996             997  2023-11-17     CUST997    Male   52           Beauty   \n",
      "997             998  2023-10-29     CUST998  Female   23           Beauty   \n",
      "998             999  2023-12-05     CUST999  Female   36      Electronics   \n",
      "999            1000  2023-04-12    CUST1000    Male   47      Electronics   \n",
      "\n",
      "     Quantity  Price per Unit  Total Amount  \n",
      "0           3              50           150  \n",
      "1           2             500          1000  \n",
      "2           1              30            30  \n",
      "3           1             500           500  \n",
      "4           2              50           100  \n",
      "..        ...             ...           ...  \n",
      "995         1              50            50  \n",
      "996         3              30            90  \n",
      "997         4              25           100  \n",
      "998         3              50           150  \n",
      "999         4              30           120  \n",
      "\n",
      "[1000 rows x 9 columns]\n"
     ]
    }
   ],
   "source": [
    "#Utilizaré pandas para solucionarlo\n",
    "import pandas as pd\n",
    "data = pd.read_csv('/Users/mathiorti/Desktop/Me/Cursos/Data Analisis and Machine Learning/retail_sales_dataset.csv')\n",
    "print(data)"
   ]
  },
  {
   "attachments": {},
   "cell_type": "markdown",
   "metadata": {},
   "source": [
    "Como vemos ahora sin funciona correctamente, los datos se cargan de buena manera y podemos proseguir con el filtrado"
   ]
  },
  {
   "cell_type": "code",
   "execution_count": 39,
   "metadata": {},
   "outputs": [
    {
     "name": "stdout",
     "output_type": "stream",
     "text": [
      "     Transaction ID        Date Customer ID  Gender  Age Product Category  \\\n",
      "2                 3  2023-01-13     CUST003    Male   50      Electronics   \n",
      "7                 8  2023-02-22     CUST008    Male   30      Electronics   \n",
      "8                 9  2023-12-13     CUST009    Male   63      Electronics   \n",
      "12               13  2023-08-05     CUST013    Male   22      Electronics   \n",
      "14               15  2023-01-16     CUST015  Female   42      Electronics   \n",
      "..              ...         ...         ...     ...  ...              ...   \n",
      "988             989  2023-12-28     CUST989  Female   44      Electronics   \n",
      "991             992  2023-08-21     CUST992  Female   57      Electronics   \n",
      "992             993  2023-02-06     CUST993  Female   48      Electronics   \n",
      "998             999  2023-12-05     CUST999  Female   36      Electronics   \n",
      "999            1000  2023-04-12    CUST1000    Male   47      Electronics   \n",
      "\n",
      "     Quantity  Price per Unit  Total Amount  \n",
      "2           1              30            30  \n",
      "7           4              25           100  \n",
      "8           2             300           600  \n",
      "12          3             500          1500  \n",
      "14          4             500          2000  \n",
      "..        ...             ...           ...  \n",
      "988         1              25            25  \n",
      "991         2              30            60  \n",
      "992         3              50           150  \n",
      "998         3              50           150  \n",
      "999         4              30           120  \n",
      "\n",
      "[342 rows x 9 columns]\n"
     ]
    }
   ],
   "source": [
    "#Filtraremos el total de ventas para la categoría electronics\n",
    "electronic_sales = data[data[\"Product Category\"] == \"Electronics\"]\n",
    "print(electronic_sales) "
   ]
  },
  {
   "cell_type": "code",
   "execution_count": 45,
   "metadata": {},
   "outputs": [
    {
     "name": "stdout",
     "output_type": "stream",
     "text": [
      "    Product Category  Quantity\n",
      "2        Electronics         1\n",
      "7        Electronics         4\n",
      "8        Electronics         2\n",
      "12       Electronics         3\n",
      "14       Electronics         4\n",
      "..               ...       ...\n",
      "988      Electronics         1\n",
      "991      Electronics         2\n",
      "992      Electronics         3\n",
      "998      Electronics         3\n",
      "999      Electronics         4\n",
      "\n",
      "[342 rows x 2 columns]\n"
     ]
    }
   ],
   "source": [
    "#Ahora solo mostraré las ventas y la categoría electronics\n",
    "print(electronic_sales[[\"Product Category\", \"Quantity\"]])"
   ]
  },
  {
   "cell_type": "code",
   "execution_count": 47,
   "metadata": {},
   "outputs": [
    {
     "name": "stdout",
     "output_type": "stream",
     "text": [
      "849\n"
     ]
    }
   ],
   "source": [
    "# Ahora veremos cual es el total de ventas para la categoría electronics\n",
    "total_ventas_electronics = electronic_sales[\"Quantity\"].sum() #Con .sum() sumo todos los valores de la columna\n",
    "print(total_ventas_electronics)"
   ]
  },
  {
   "cell_type": "code",
   "execution_count": 50,
   "metadata": {},
   "outputs": [
    {
     "name": "stdout",
     "output_type": "stream",
     "text": [
      "156905\n",
      "475\n",
      "25\n",
      "2       30\n",
      "7      100\n",
      "8      600\n",
      "12    1500\n",
      "14    2000\n",
      "dtype: int64\n",
      "184.811542991755\n"
     ]
    }
   ],
   "source": [
    "# Puedo ver ahora cuál es la cantidad de dinero que se obtuvo vendiendo electronics\n",
    "total_amount_electronics = electronic_sales[\"Total Amount\"].sum()\n",
    "print(total_amount_electronics)\n",
    "\n",
    "#Puedo ver también la diferencia entre el precio unitario más alto y el precio unitario más bajo\n",
    "difference_price_per_unit = electronic_sales[\"Price per Unit\"].max() - electronic_sales[\"Price per Unit\"].min()\n",
    "print(difference_price_per_unit)\n",
    "\n",
    "#El precio unitario más bajo para electronics es:\n",
    "min_price_per_unit = electronic_sales[\"Price per Unit\"].min()\n",
    "print(min_price_per_unit)\n",
    "\n",
    "#Podemos calcular el precio por unidad por la cantidad para saber el monto total en las primeras 5 transacciones.\n",
    "first_five_transaccions_amount = electronic_sales[\"Price per Unit\"] * electronic_sales[\"Quantity\"]\n",
    "print(first_five_transaccions_amount.head())\n",
    "\n",
    "#Si calculamos la cantidad todal vendida, y el monto total, podemos dividirlo para tener un promedio de precio unitario\n",
    "price_per_unit_promedio = total_amount_electronics / total_ventas_electronics\n",
    "print(price_per_unit_promedio)"
   ]
  },
  {
   "cell_type": "code",
   "execution_count": 51,
   "metadata": {},
   "outputs": [
    {
     "name": "stdout",
     "output_type": "stream",
     "text": [
      "El total de ventas para la categoría ventas es: 849\n",
      "El total de dinero que se obtuvo vendiendo electronics es: 156905\n",
      "La diferencia entre el precio unitario más alto y el precio unitario más bajo es: 475\n",
      "El precio unitario más bajo para electronics es: 25\n",
      "El precio por unidad por la cantidad para saber el monto total en las primeras 5 transacciones: 2       30\n",
      "7      100\n",
      "8      600\n",
      "12    1500\n",
      "14    2000\n",
      "dtype: int64\n",
      "El promedio de precio unitario de electronics es: 184.811542991755\n"
     ]
    }
   ],
   "source": [
    "#Ahora imprimo un resumen de lo último\n",
    "print(f\"El total de ventas para la categoría ventas es: {total_ventas_electronics}\")\n",
    "print(f\"El total de dinero que se obtuvo vendiendo electronics es: {total_amount_electronics}\")\n",
    "print(f\"La diferencia entre el precio unitario más alto y el precio unitario más bajo es: {difference_price_per_unit}\")\n",
    "print(f\"El precio unitario más bajo para electronics es: {min_price_per_unit}\")\n",
    "print(f\"El precio por unidad por la cantidad para saber el monto total en las primeras 5 transacciones: {first_five_transaccions_amount.head()}\")\n",
    "print(f\"El promedio de precio unitario de electronics es: {price_per_unit_promedio}\")"
   ]
  },
  {
   "attachments": {},
   "cell_type": "markdown",
   "metadata": {},
   "source": [
    "# Proyecto I - Parte 2(Core)"
   ]
  },
  {
   "attachments": {},
   "cell_type": "markdown",
   "metadata": {},
   "source": [
    "Análisis y Predicción de Ventas en una Tienda de Retail\n",
    "\n",
    "\n",
    "\n",
    "Parte II: Análisis Exploratorio con Pandas\n",
    "\n",
    "En esta segunda parte del proyecto, vamos a utilizar Pandas para realizar un análisis exploratorio más detallado de nuestro dataset de ventas. El objetivo es aplicar técnicas de carga, exploración, filtrado y slicing de datos para obtener una comprensión profunda de los datos y preparar el dataset para futuros análisis y modelados predictivos."
   ]
  },
  {
   "attachments": {},
   "cell_type": "markdown",
   "metadata": {},
   "source": [
    "Instrucciones\n",
    "\n",
    "1. Preparación del Entorno\n",
    "- Asegúrate de tener instalado Pandas en tu entorno de trabajo.\n",
    "- Utiliza el archivo retail_sales.csv del proyecto inicial. Si aún no lo tienes, descarga el archivo correspondiente.\n",
    "2. Cargar los Datos\n",
    "- Carga el archivo retail_sales.csv en un DataFrame de Pandas.\n",
    "- Muestra las primeras 10 filas del DataFrame para confirmar que los datos se han cargado correctamente.\n",
    "3. Exploración Inicial de los Datos\n",
    "- Muestra las últimas 5 filas del DataFrame.\n",
    "- Utiliza el método info() para obtener información general sobre el DataFrame, incluyendo el número de entradas, nombres de las columnas, tipos de datos y memoria utilizada.\n",
    "- Genera estadísticas descriptivas del DataFrame utilizando el método describe().\n",
    "4. Inspección de los Datos\n",
    "- Inspecciona los tipos de datos de cada columna utilizando el atributo dtypes.\n",
    "- Cuenta los valores únicos en la columna Producto utilizando el método value_counts().\n",
    "- Muestra todos los valores únicos en la columna Tienda utilizando el método unique().\n",
    "5. Filtrado de Datos\n",
    "- Filtra el DataFrame para mostrar solo las filas donde las ventas (Ventas) sean mayores a 50.\n",
    "- Filtra el DataFrame para mostrar solo las filas donde el precio (Precio) sea menor a 0.5.\n",
    "- Utilizando el método query(), filtra el DataFrame para mostrar las filas donde el producto sea electronic y las ventas sean mayores a 30.\n",
    "6. Slicing de Datos\n",
    "- Selecciona y muestra solo las columnas Producto y Ventas del DataFrame.\n",
    "- Utilizando loc[], selecciona y muestra las filas de la 5 a la 10 (inclusive) y las columnas Producto y Precio.\n",
    "- Utilizando iloc[], selecciona y muestra las primeras 5 filas y las primeras 3 columnas del DataFrame."
   ]
  },
  {
   "cell_type": "code",
   "execution_count": 5,
   "metadata": {},
   "outputs": [
    {
     "name": "stdout",
     "output_type": "stream",
     "text": [
      "   Transaction ID        Date Customer ID  Gender  Age Product Category  \\\n",
      "0               1  2023-11-24     CUST001    Male   34           Beauty   \n",
      "1               2  2023-02-27     CUST002  Female   26         Clothing   \n",
      "2               3  2023-01-13     CUST003    Male   50      Electronics   \n",
      "3               4  2023-05-21     CUST004    Male   37         Clothing   \n",
      "4               5  2023-05-06     CUST005    Male   30           Beauty   \n",
      "5               6  2023-04-25     CUST006  Female   45           Beauty   \n",
      "6               7  2023-03-13     CUST007    Male   46         Clothing   \n",
      "7               8  2023-02-22     CUST008    Male   30      Electronics   \n",
      "8               9  2023-12-13     CUST009    Male   63      Electronics   \n",
      "9              10  2023-10-07     CUST010  Female   52         Clothing   \n",
      "\n",
      "   Quantity  Price per Unit  Total Amount  \n",
      "0         3              50           150  \n",
      "1         2             500          1000  \n",
      "2         1              30            30  \n",
      "3         1             500           500  \n",
      "4         2              50           100  \n",
      "5         1              30            30  \n",
      "6         2              25            50  \n",
      "7         4              25           100  \n",
      "8         2             300           600  \n",
      "9         4              50           200  \n"
     ]
    }
   ],
   "source": [
    "import pandas as pd\n",
    "data = pd.read_csv('/Users/mathiorti/Desktop/Me/Cursos/Data Analisis and Machine Learning/retail_sales_dataset.csv')\n",
    "#Primeras 10 filas del DataFrame para confirmar que \n",
    "# los datos se han cargado correctamente.\n",
    "primeras_10_filas = data.head(10)\n",
    "print(primeras_10_filas)"
   ]
  },
  {
   "cell_type": "code",
   "execution_count": 6,
   "metadata": {},
   "outputs": [
    {
     "name": "stdout",
     "output_type": "stream",
     "text": [
      "     Transaction ID        Date Customer ID  Gender  Age Product Category  \\\n",
      "995             996  2023-05-16     CUST996    Male   62         Clothing   \n",
      "996             997  2023-11-17     CUST997    Male   52           Beauty   \n",
      "997             998  2023-10-29     CUST998  Female   23           Beauty   \n",
      "998             999  2023-12-05     CUST999  Female   36      Electronics   \n",
      "999            1000  2023-04-12    CUST1000    Male   47      Electronics   \n",
      "\n",
      "     Quantity  Price per Unit  Total Amount  \n",
      "995         1              50            50  \n",
      "996         3              30            90  \n",
      "997         4              25           100  \n",
      "998         3              50           150  \n",
      "999         4              30           120  \n"
     ]
    }
   ],
   "source": [
    "#Muestra las últimas 5 filas\n",
    "ultimas_5_filas = data.tail()\n",
    "print(ultimas_5_filas)"
   ]
  },
  {
   "cell_type": "code",
   "execution_count": 7,
   "metadata": {},
   "outputs": [
    {
     "name": "stdout",
     "output_type": "stream",
     "text": [
      "<class 'pandas.core.frame.DataFrame'>\n",
      "RangeIndex: 1000 entries, 0 to 999\n",
      "Data columns (total 9 columns):\n",
      " #   Column            Non-Null Count  Dtype \n",
      "---  ------            --------------  ----- \n",
      " 0   Transaction ID    1000 non-null   int64 \n",
      " 1   Date              1000 non-null   object\n",
      " 2   Customer ID       1000 non-null   object\n",
      " 3   Gender            1000 non-null   object\n",
      " 4   Age               1000 non-null   int64 \n",
      " 5   Product Category  1000 non-null   object\n",
      " 6   Quantity          1000 non-null   int64 \n",
      " 7   Price per Unit    1000 non-null   int64 \n",
      " 8   Total Amount      1000 non-null   int64 \n",
      "dtypes: int64(5), object(4)\n",
      "memory usage: 70.4+ KB\n",
      "None\n"
     ]
    }
   ],
   "source": [
    "#Utiliza el método info() para obtener información \n",
    "# general sobre el DataFrame, incluyendo el número de\n",
    "# entradas, nombres de las columnas, tipos de datos y memoria utilizada.\n",
    "metodo_info = data.info()\n",
    "print(metodo_info)"
   ]
  },
  {
   "cell_type": "code",
   "execution_count": 8,
   "metadata": {},
   "outputs": [
    {
     "name": "stdout",
     "output_type": "stream",
     "text": [
      "       Transaction ID         Age     Quantity  Price per Unit  Total Amount\n",
      "count     1000.000000  1000.00000  1000.000000     1000.000000   1000.000000\n",
      "mean       500.500000    41.39200     2.514000      179.890000    456.000000\n",
      "std        288.819436    13.68143     1.132734      189.681356    559.997632\n",
      "min          1.000000    18.00000     1.000000       25.000000     25.000000\n",
      "25%        250.750000    29.00000     1.000000       30.000000     60.000000\n",
      "50%        500.500000    42.00000     3.000000       50.000000    135.000000\n",
      "75%        750.250000    53.00000     4.000000      300.000000    900.000000\n",
      "max       1000.000000    64.00000     4.000000      500.000000   2000.000000\n"
     ]
    }
   ],
   "source": [
    "#Estadisticas descriptivas\n",
    "estadisticas_desc = data.describe()\n",
    "print(estadisticas_desc)"
   ]
  },
  {
   "cell_type": "code",
   "execution_count": 9,
   "metadata": {},
   "outputs": [
    {
     "name": "stdout",
     "output_type": "stream",
     "text": [
      "Transaction ID       int64\n",
      "Date                object\n",
      "Customer ID         object\n",
      "Gender              object\n",
      "Age                  int64\n",
      "Product Category    object\n",
      "Quantity             int64\n",
      "Price per Unit       int64\n",
      "Total Amount         int64\n",
      "dtype: object\n"
     ]
    }
   ],
   "source": [
    "#Inspeccionando los tipos de datos de cada columna\n",
    "data_type = data.dtypes\n",
    "print(data_type)"
   ]
  },
  {
   "cell_type": "code",
   "execution_count": 10,
   "metadata": {},
   "outputs": [
    {
     "name": "stdout",
     "output_type": "stream",
     "text": [
      "Product Category\n",
      "Clothing       351\n",
      "Electronics    342\n",
      "Beauty         307\n",
      "Name: count, dtype: int64\n"
     ]
    }
   ],
   "source": [
    "#Valores únicos en la columna Producto\n",
    "valores_unicos_producto = data[\"Product Category\"].value_counts()\n",
    "print(valores_unicos_producto)"
   ]
  },
  {
   "cell_type": "code",
   "execution_count": 12,
   "metadata": {},
   "outputs": [
    {
     "name": "stdout",
     "output_type": "stream",
     "text": [
      "['Beauty' 'Clothing' 'Electronics']\n"
     ]
    }
   ],
   "source": [
    "#Mostrar valor únicos de la columna Product category con unique()\n",
    "muestra_valores_unicos_produc = data[\"Product Category\"].unique()\n",
    "print(muestra_valores_unicos_produc)"
   ]
  },
  {
   "cell_type": "code",
   "execution_count": 16,
   "metadata": {},
   "outputs": [
    {
     "name": "stdout",
     "output_type": "stream",
     "text": [
      "     Transaction ID        Date Customer ID  Gender  Age Product Category  \\\n",
      "0                 1  2023-11-24     CUST001    Male   34           Beauty   \n",
      "1                 2  2023-02-27     CUST002  Female   26         Clothing   \n",
      "3                 4  2023-05-21     CUST004    Male   37         Clothing   \n",
      "4                 5  2023-05-06     CUST005    Male   30           Beauty   \n",
      "7                 8  2023-02-22     CUST008    Male   30      Electronics   \n",
      "..              ...         ...         ...     ...  ...              ...   \n",
      "993             994  2023-12-18     CUST994  Female   51           Beauty   \n",
      "996             997  2023-11-17     CUST997    Male   52           Beauty   \n",
      "997             998  2023-10-29     CUST998  Female   23           Beauty   \n",
      "998             999  2023-12-05     CUST999  Female   36      Electronics   \n",
      "999            1000  2023-04-12    CUST1000    Male   47      Electronics   \n",
      "\n",
      "     Quantity  Price per Unit  Total Amount  \n",
      "0           3              50           150  \n",
      "1           2             500          1000  \n",
      "3           1             500           500  \n",
      "4           2              50           100  \n",
      "7           4              25           100  \n",
      "..        ...             ...           ...  \n",
      "993         2             500          1000  \n",
      "996         3              30            90  \n",
      "997         4              25           100  \n",
      "998         3              50           150  \n",
      "999         4              30           120  \n",
      "\n",
      "[783 rows x 9 columns]\n"
     ]
    }
   ],
   "source": [
    "#Filas donde las ventas sean mayores a 50\n",
    "ventas_more_50 = data[data[\"Total Amount\"] > 50]\n",
    "print(ventas_more_50)"
   ]
  },
  {
   "cell_type": "code",
   "execution_count": 15,
   "metadata": {},
   "outputs": [
    {
     "name": "stdout",
     "output_type": "stream",
     "text": [
      "Empty DataFrame\n",
      "Columns: [Transaction ID, Date, Customer ID, Gender, Age, Product Category, Quantity, Price per Unit, Total Amount]\n",
      "Index: []\n"
     ]
    }
   ],
   "source": [
    "#Filas donde el precio sea menor a 0.5\n",
    "precio_less_0_5 = data[data[\"Price per Unit\"] < 0.5]\n",
    "print(precio_less_0_5)"
   ]
  },
  {
   "cell_type": "code",
   "execution_count": 22,
   "metadata": {},
   "outputs": [
    {
     "name": "stdout",
     "output_type": "stream",
     "text": [
      "     Transaction ID        Date Customer ID  Gender  Age Product Category  \\\n",
      "7                 8  2023-02-22     CUST008    Male   30      Electronics   \n",
      "8                 9  2023-12-13     CUST009    Male   63      Electronics   \n",
      "12               13  2023-08-05     CUST013    Male   22      Electronics   \n",
      "14               15  2023-01-16     CUST015  Female   42      Electronics   \n",
      "17               18  2023-04-30     CUST018  Female   47      Electronics   \n",
      "..              ...         ...         ...     ...  ...              ...   \n",
      "984             985  2023-05-30     CUST985  Female   19      Electronics   \n",
      "991             992  2023-08-21     CUST992  Female   57      Electronics   \n",
      "992             993  2023-02-06     CUST993  Female   48      Electronics   \n",
      "998             999  2023-12-05     CUST999  Female   36      Electronics   \n",
      "999            1000  2023-04-12    CUST1000    Male   47      Electronics   \n",
      "\n",
      "     Quantity  Price per Unit  Total Amount  \n",
      "7           4              25           100  \n",
      "8           2             300           600  \n",
      "12          3             500          1500  \n",
      "14          4             500          2000  \n",
      "17          2              25            50  \n",
      "..        ...             ...           ...  \n",
      "984         2              25            50  \n",
      "991         2              30            60  \n",
      "992         3              50           150  \n",
      "998         3              50           150  \n",
      "999         4              30           120  \n",
      "\n",
      "[308 rows x 9 columns]\n"
     ]
    }
   ],
   "source": [
    "#Filas donde el producto sea electronics y las ventas mayores a 30\n",
    "electronic_less_30 = data.query('`Product Category` == \"Electronics\" and `Total Amount` > 30')\n",
    "print(electronic_less_30)"
   ]
  },
  {
   "cell_type": "code",
   "execution_count": 23,
   "metadata": {},
   "outputs": [
    {
     "name": "stdout",
     "output_type": "stream",
     "text": [
      "    Product Category  Total Amount\n",
      "0             Beauty           150\n",
      "1           Clothing          1000\n",
      "2        Electronics            30\n",
      "3           Clothing           500\n",
      "4             Beauty           100\n",
      "..               ...           ...\n",
      "995         Clothing            50\n",
      "996           Beauty            90\n",
      "997           Beauty           100\n",
      "998      Electronics           150\n",
      "999      Electronics           120\n",
      "\n",
      "[1000 rows x 2 columns]\n"
     ]
    }
   ],
   "source": [
    "#Muestra solo las columnas producto y ventas\n",
    "producto_ventas = data[[\"Product Category\", \"Total Amount\"]]\n",
    "print(producto_ventas)"
   ]
  },
  {
   "cell_type": "code",
   "execution_count": 24,
   "metadata": {},
   "outputs": [
    {
     "name": "stdout",
     "output_type": "stream",
     "text": [
      "   Product Category  Price per Unit\n",
      "5            Beauty              30\n",
      "6          Clothing              25\n",
      "7       Electronics              25\n",
      "8       Electronics             300\n",
      "9          Clothing              50\n",
      "10         Clothing              50\n"
     ]
    }
   ],
   "source": [
    "#Muestra filas de la 5 a la 10 y las columnas producto y precio utilizando loc[]\n",
    "filas_5_10_producto_tienda = data.loc[5:10, [\"Product Category\", \"Price per Unit\"]]\n",
    "print(filas_5_10_producto_tienda)\n"
   ]
  },
  {
   "cell_type": "code",
   "execution_count": 25,
   "metadata": {},
   "outputs": [
    {
     "name": "stdout",
     "output_type": "stream",
     "text": [
      "   Transaction ID        Date Customer ID\n",
      "0               1  2023-11-24     CUST001\n",
      "1               2  2023-02-27     CUST002\n",
      "2               3  2023-01-13     CUST003\n",
      "3               4  2023-05-21     CUST004\n",
      "4               5  2023-05-06     CUST005\n"
     ]
    }
   ],
   "source": [
    "#Con iloc muestra las 5 primeras filas y las primeras 3 columnas\n",
    "primeras_5_filas_primeras_3_columnas = data.iloc[:5, :3]\n",
    "print(primeras_5_filas_primeras_3_columnas)"
   ]
  },
  {
   "cell_type": "code",
   "execution_count": null,
   "metadata": {},
   "outputs": [],
   "source": []
  }
 ],
 "metadata": {
  "kernelspec": {
   "display_name": "Python 3",
   "language": "python",
   "name": "python3"
  },
  "language_info": {
   "codemirror_mode": {
    "name": "ipython",
    "version": 3
   },
   "file_extension": ".py",
   "mimetype": "text/x-python",
   "name": "python",
   "nbconvert_exporter": "python",
   "pygments_lexer": "ipython3",
   "version": "3.12.6"
  },
  "orig_nbformat": 4
 },
 "nbformat": 4,
 "nbformat_minor": 2
}
